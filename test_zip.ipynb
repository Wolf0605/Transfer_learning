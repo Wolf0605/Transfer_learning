{
  "nbformat": 4,
  "nbformat_minor": 0,
  "metadata": {
    "colab": {
      "name": "test_zip",
      "provenance": [],
      "authorship_tag": "ABX9TyMvzSCALoI9rkQdUzh5jP6b",
      "include_colab_link": true
    },
    "kernelspec": {
      "name": "python3",
      "display_name": "Python 3"
    },
    "language_info": {
      "name": "python"
    }
  },
  "cells": [
    {
      "cell_type": "markdown",
      "metadata": {
        "id": "view-in-github",
        "colab_type": "text"
      },
      "source": [
        "<a href=\"https://colab.research.google.com/github/Wolf0605/Transfer_learning/blob/main/test_zip.ipynb\" target=\"_parent\"><img src=\"https://colab.research.google.com/assets/colab-badge.svg\" alt=\"Open In Colab\"/></a>"
      ]
    },
    {
      "cell_type": "code",
      "execution_count": null,
      "metadata": {
        "id": "s9QEZ_SCBr-Y",
        "colab": {
          "base_uri": "https://localhost:8080/"
        },
        "outputId": "e594a775-d8cf-45cb-97be-b7e6a5d49721"
      },
      "outputs": [
        {
          "output_type": "stream",
          "name": "stdout",
          "text": [
            "Mounted at /content/drive\n"
          ]
        }
      ],
      "source": [
        "from google.colab import drive\n",
        "drive.mount('/content/drive')"
      ]
    },
    {
      "cell_type": "code",
      "source": [
        "import os\n",
        "file_dir = '/content/drive/MyDrive/test_zip'\n",
        "a = os.listdir(file_dir)\n",
        "zip_file = os.path.join(file_dir, a[0])\n",
        "print(zip_file)"
      ],
      "metadata": {
        "colab": {
          "base_uri": "https://localhost:8080/"
        },
        "id": "7PsjOSg9DbwH",
        "outputId": "dfa31726-f36a-4254-d1b5-e00323438557"
      },
      "execution_count": null,
      "outputs": [
        {
          "output_type": "stream",
          "name": "stdout",
          "text": [
            "/content/drive/MyDrive/test_zip/테스트.zip\n"
          ]
        }
      ]
    },
    {
      "cell_type": "code",
      "source": [
        "import zipfile\n",
        "MAIN_DIR = '/content/drive/MyDrive/'\n",
        "NEW_DIR = os.path.join(MAIN_DIR, 'unzip_file')\n",
        "print(NEW_DIR)\n",
        "with zipfile.ZipFile(f'{zip_file}','r') as zipf:\n",
        "  zipf.extractall(NEW_DIR)"
      ],
      "metadata": {
        "colab": {
          "base_uri": "https://localhost:8080/"
        },
        "id": "eH-pIp4SD9WN",
        "outputId": "76a0a8a4-9005-4ed8-bcc2-1ce7e39bc3ef"
      },
      "execution_count": null,
      "outputs": [
        {
          "output_type": "stream",
          "name": "stdout",
          "text": [
            "/content/drive/MyDrive/unzip_file\n"
          ]
        }
      ]
    },
    {
      "cell_type": "code",
      "source": [
        "img_files = os.listdir(NEW_DIR)\n",
        "print(img_files)\n",
        "print(len(img_files))\n",
        "dog_0 = [fn for fn in img_files if '0' in fn]\n",
        "dog_1 = [fn for fn in img_files if '0' not in fn]\n",
        "\n",
        "new_files = ['dog_0', 'dog_1']\n",
        "DOG_0 = os.path.join(NEW_DIR, new_files[0])\n",
        "DOG_1 = os.path.join(NEW_DIR, new_files[1])\n",
        "\n",
        "for new_file in new_files:\n",
        "  os.makedirs(os.path.join(NEW_DIR, new_file), exist_ok=True)\n",
        "\n",
        "import tqdm\n",
        "import shutil\n",
        "try:\n",
        "  for img_file in img_files:\n",
        "    if '0' in img_file:\n",
        "      shutil.move(os.path.join(NEW_DIR, img_file), os.path.join(DOG_0,img_file))\n",
        "    else:\n",
        "      shutil.move(os.path.join(NEW_DIR, img_file), os.path.join(DOG_1,img_file))\n",
        "except:\n",
        "  print('Already Exist')\n"
      ],
      "metadata": {
        "colab": {
          "base_uri": "https://localhost:8080/"
        },
        "id": "mEkw6EmJFOGr",
        "outputId": "1d59bc58-a762-492c-93d1-760b8555f8d2"
      },
      "execution_count": null,
      "outputs": [
        {
          "output_type": "stream",
          "name": "stdout",
          "text": [
            "['dog_0', 'dog_1']\n",
            "2\n",
            "Error\n"
          ]
        }
      ]
    },
    {
      "cell_type": "code",
      "source": [
        "%cd {https://github.com/Wolf0605/Transfer_learning/tree/main/cat%20vs%20dog}"
      ],
      "metadata": {
        "id": "BkZBgTzcGxWv",
        "colab": {
          "base_uri": "https://localhost:8080/"
        },
        "outputId": "e47e3ff3-29ce-4fb0-bcda-fb095d44ca73"
      },
      "execution_count": 28,
      "outputs": [
        {
          "output_type": "stream",
          "name": "stdout",
          "text": [
            "[Errno 2] No such file or directory: '{https://github.com/Wolf0605/Transfer_learning/tree/main/cat%20vs%20dog}'\n",
            "/content\n"
          ]
        }
      ]
    },
    {
      "cell_type": "code",
      "source": [
        "!git config --global user.email \"mmd0a605@naver.com\"\n",
        "!git config --global user.name \"Wolf0605\""
      ],
      "metadata": {
        "id": "8vyPAdRNS-Gb"
      },
      "execution_count": 23,
      "outputs": []
    },
    {
      "cell_type": "code",
      "source": [
        "!git add ."
      ],
      "metadata": {
        "colab": {
          "base_uri": "https://localhost:8080/"
        },
        "id": "7ouJ_YnuTLwK",
        "outputId": "34c9a83a-e8cf-4b37-fbf1-38c49585bc0b"
      },
      "execution_count": 24,
      "outputs": [
        {
          "output_type": "stream",
          "name": "stdout",
          "text": [
            "fatal: not a git repository (or any of the parent directories): .git\n"
          ]
        }
      ]
    },
    {
      "cell_type": "code",
      "source": [
        "!git commit -m 'os. path.join, listdir, makedirs shutil, tqdm, zipfile'"
      ],
      "metadata": {
        "colab": {
          "base_uri": "https://localhost:8080/"
        },
        "id": "OPOBquGdTPej",
        "outputId": "66ef6550-0be2-42fc-dee3-4c095b7b1024"
      },
      "execution_count": 25,
      "outputs": [
        {
          "output_type": "stream",
          "name": "stdout",
          "text": [
            "fatal: not a git repository (or any of the parent directories): .git\n"
          ]
        }
      ]
    },
    {
      "cell_type": "code",
      "source": [
        "print('testetstestset')"
      ],
      "metadata": {
        "colab": {
          "base_uri": "https://localhost:8080/"
        },
        "id": "D1vrWx8qTfcE",
        "outputId": "7a3e7057-45ba-4e8a-9c26-a6db8cf27977"
      },
      "execution_count": 29,
      "outputs": [
        {
          "output_type": "stream",
          "name": "stdout",
          "text": [
            "testetstestset\n"
          ]
        }
      ]
    },
    {
      "cell_type": "code",
      "source": [
        ""
      ],
      "metadata": {
        "id": "o8houioWU7X-"
      },
      "execution_count": null,
      "outputs": []
    }
  ]
}