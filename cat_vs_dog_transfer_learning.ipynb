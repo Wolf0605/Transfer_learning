{
  "nbformat": 4,
  "nbformat_minor": 0,
  "metadata": {
    "colab": {
      "name": "cat vs dog transfer learning",
      "provenance": [],
      "authorship_tag": "ABX9TyOpuE56pTqC6gwYv/NPMwxs",
      "include_colab_link": true
    },
    "kernelspec": {
      "name": "python3",
      "display_name": "Python 3"
    },
    "language_info": {
      "name": "python"
    }
  },
  "cells": [
    {
      "cell_type": "markdown",
      "metadata": {
        "id": "view-in-github",
        "colab_type": "text"
      },
      "source": [
        "<a href=\"https://colab.research.google.com/github/Wolf0605/Transfer_learning/blob/main/cat_vs_dog_transfer_learning.ipynb\" target=\"_parent\"><img src=\"https://colab.research.google.com/assets/colab-badge.svg\" alt=\"Open In Colab\"/></a>"
      ]
    },
    {
      "cell_type": "code",
      "execution_count": null,
      "metadata": {
        "id": "_6ymmt8Hhm-n"
      },
      "outputs": [],
      "source": [
        "import os\n",
        "import numpy as np\n",
        "import pandas as pd\n",
        "import tensorflow as tf\n",
        "from tensorflow.keras.preprocessing.image import ImageDataGenerator\n",
        "from tensorflow.keras.layers import Dense, Dropout\n",
        "from sklearn.model_selection import train_test_split\n",
        "import matplotlib.pyplot as plt\n",
        "import shutil\n",
        "import tqdm"
      ]
    },
    {
      "cell_type": "code",
      "source": [
        "from google.colab import drive\n",
        "drive.mount('/content/drive')"
      ],
      "metadata": {
        "id": "wnIl2N2rkY0O",
        "colab": {
          "base_uri": "https://localhost:8080/"
        },
        "outputId": "29097ae3-1e05-425e-b63a-d7ec2cbc23a1"
      },
      "execution_count": null,
      "outputs": [
        {
          "output_type": "stream",
          "name": "stdout",
          "text": [
            "Mounted at /content/drive\n"
          ]
        }
      ]
    },
    {
      "cell_type": "code",
      "source": [
        "file_dir = '/content/drive/MyDrive/cat vs dog/dogs-vs-cats'\n",
        "files = os.listdir(file_dir)\n",
        "print(files)\n",
        "\n",
        "for file in files:\n",
        "  path = os.path.join(file_dir, file)\n",
        "  print(path)"
      ],
      "metadata": {
        "id": "j93x7q5Orq_5",
        "colab": {
          "base_uri": "https://localhost:8080/"
        },
        "outputId": "60d5be65-0a64-4d7e-a71a-c69b5e9973b5"
      },
      "execution_count": null,
      "outputs": [
        {
          "output_type": "stream",
          "name": "stdout",
          "text": [
            "['sampleSubmission.csv', 'test1.zip', 'train.zip']\n",
            "/content/drive/MyDrive/cat vs dog/dogs-vs-cats/sampleSubmission.csv\n",
            "/content/drive/MyDrive/cat vs dog/dogs-vs-cats/test1.zip\n",
            "/content/drive/MyDrive/cat vs dog/dogs-vs-cats/train.zip\n"
          ]
        }
      ]
    },
    {
      "cell_type": "code",
      "source": [
        "CONTENT_DIR = '/content/drive/MyDrive/content'\n",
        "TRAIN_DIR = CONTENT_DIR + '/train'\n",
        "VALID_DIR = CONTENT_DIR + '/valid'\n",
        "\n",
        "if not os.path.exists(CONTENT_DIR):\n",
        "    # Extract dataset\n",
        "  import zipfile\n",
        "  with zipfile.ZipFile('/content/drive/MyDrive/cat vs dog/dogs-vs-cats/train.zip', 'r') as zipf:\n",
        "    zipf.extractall(CONTENT_DIR)"
      ],
      "metadata": {
        "id": "soFqLRztuCGh"
      },
      "execution_count": null,
      "outputs": []
    },
    {
      "cell_type": "code",
      "source": [
        "TRAIN_DIR_DOG = TRAIN_DIR + '/dog'\n",
        "TRAIN_DIR_CAT = TRAIN_DIR + '/cat'\n",
        "\n",
        "VALID_DIR_DOG = VALID_DIR + '/dog'\n",
        "VALID_DIR_CAT = VALID_DIR + '/cat'\n",
        "\n",
        "img_filenames = os.listdir(os.path.join(CONTENT_DIR, 'train'))\n",
        "cat_files = [fn for fn in img_filenames if 'cat' in fn]\n",
        "dog_files = [fn for fn in img_filenames if 'dog' in fn]\n",
        "print(len(cat_files))\n",
        "print(len(dog_files))\n",
        "\n",
        "dataset_files = train_test_split(dog_files, cat_files, test_size=0.1, shuffle=True, random_state=42)"
      ],
      "metadata": {
        "id": "6bKHioTNxjuz"
      },
      "execution_count": null,
      "outputs": []
    },
    {
      "cell_type": "code",
      "source": [
        "# makde dirs\n",
        "# Error \n",
        "# eactuallu : [TRAIN_DOG, VALID_DOG, TRAIN_CAT, VALID_CAT]\n",
        "names = [TRAIN_DIR_DOG, TRAIN_DIR_CAT, VALID_DIR_DOG, VALID_DIR_CAT]\n",
        "for name, dataset_file in zip(names, dataset_files)\n",
        "  os.makedirs(name, exist_ok=True)\n",
        "  for file in tqdm.tqdm(dataset_file):\n",
        "    shutil.move(os.path.join(TRAIN_DIR, file), name)\n",
        "  print(f'elements in {name} : {len(os.listdir(name))}')"
      ],
      "metadata": {
        "id": "NXRAD5SZ3QC5"
      },
      "execution_count": null,
      "outputs": []
    },
    {
      "cell_type": "code",
      "source": [
        "names = [TRAIN_DIR_DOG, VALID_DIR_DOG, TRAIN_DIR_CAT, VALID_DIR_CAT]\n",
        "\n",
        "for name in names:\n",
        "  print(len(os.listdir(name)))"
      ],
      "metadata": {
        "colab": {
          "base_uri": "https://localhost:8080/"
        },
        "id": "hjBE13xGSuyR",
        "outputId": "fe04289e-d88a-4e02-dbfd-f1bc68f38bc1"
      },
      "execution_count": null,
      "outputs": [
        {
          "output_type": "stream",
          "name": "stdout",
          "text": [
            "11250\n",
            "1250\n",
            "11250\n",
            "1250\n"
          ]
        }
      ]
    },
    {
      "cell_type": "markdown",
      "source": [
        "## Preprocessing"
      ],
      "metadata": {
        "id": "AdO-5dDbFY51"
      }
    },
    {
      "cell_type": "code",
      "source": [
        ""
      ],
      "metadata": {
        "id": "JNP9rsuD-cDO"
      },
      "execution_count": null,
      "outputs": []
    }
  ]
}